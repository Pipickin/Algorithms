{
  "nbformat": 4,
  "nbformat_minor": 0,
  "metadata": {
    "colab": {
      "name": "MergeSort",
      "provenance": [],
      "collapsed_sections": [
        "BKXuMw1-9hXd",
        "fnCKMfRBytO0"
      ],
      "authorship_tag": "ABX9TyNQeg2DCuK+VOpqVL3OMvem",
      "include_colab_link": true
    },
    "kernelspec": {
      "name": "python3",
      "display_name": "Python 3"
    }
  },
  "cells": [
    {
      "cell_type": "markdown",
      "metadata": {
        "id": "view-in-github",
        "colab_type": "text"
      },
      "source": [
        "<a href=\"https://colab.research.google.com/github/Pipickin/Algorithms/blob/main/Sortings/MergeSort.ipynb\" target=\"_parent\"><img src=\"https://colab.research.google.com/assets/colab-badge.svg\" alt=\"Open In Colab\"/></a>"
      ]
    },
    {
      "cell_type": "markdown",
      "metadata": {
        "id": "BKXuMw1-9hXd"
      },
      "source": [
        "# MergeSort with Recursion"
      ]
    },
    {
      "cell_type": "code",
      "metadata": {
        "id": "E1llTE63xsD5"
      },
      "source": [
        "def mergeSort(array):\n",
        "\n",
        "  if len(array) == 0:\n",
        "    return []\n",
        "\n",
        "  midle = len(array)//2\n",
        "  result = array\n",
        "  if midle != 0:\n",
        "\n",
        "    left_array = array[: midle]\n",
        "    right_array = array[midle: ]\n",
        "    result = merge(mergeSort(left_array), mergeSort(right_array))\n",
        "\n",
        "  return result\n",
        "\n",
        "\n",
        "def merge(left_array, right_array):\n",
        "\n",
        "  len_left_array = len(left_array)\n",
        "  len_right_array = len(right_array)\n",
        "  i = 0\n",
        "  j = 0\n",
        "  result = []\n",
        "\n",
        "  while True:\n",
        "    if i == len_left_array:\n",
        "      result.extend(right_array[j: ])\n",
        "      break\n",
        "\n",
        "    elif j == len_right_array:\n",
        "      result.extend(left_array[i: ])\n",
        "      break\n",
        "\n",
        "    elif left_array[i] <= right_array[j]:\n",
        "      result.append(left_array[i])\n",
        "      i += 1\n",
        "\n",
        "    else:\n",
        "      result.append(right_array[j])\n",
        "      j += 1\n",
        "  \n",
        "  return result\n",
        "      "
      ],
      "execution_count": null,
      "outputs": []
    },
    {
      "cell_type": "code",
      "metadata": {
        "colab": {
          "base_uri": "https://localhost:8080/"
        },
        "id": "iFRxttF--A29",
        "outputId": "779300da-3d6d-45ab-d18a-a2628a6c65e9"
      },
      "source": [
        "test = [1, 2, 7, 6, 3, 4, 5]\n",
        "print(mergeSort(test))"
      ],
      "execution_count": null,
      "outputs": [
        {
          "output_type": "stream",
          "text": [
            "[1, 2, 3, 4, 5, 6, 7]\n"
          ],
          "name": "stdout"
        }
      ]
    },
    {
      "cell_type": "code",
      "metadata": {
        "colab": {
          "base_uri": "https://localhost:8080/"
        },
        "id": "xZzwJ-jLELVu",
        "outputId": "283f3dcb-fcd6-4d67-f6be-4c9e29d51643"
      },
      "source": [
        "a = []\n",
        "mergeSort(a)"
      ],
      "execution_count": null,
      "outputs": [
        {
          "output_type": "execute_result",
          "data": {
            "text/plain": [
              "[]"
            ]
          },
          "metadata": {
            "tags": []
          },
          "execution_count": 60
        }
      ]
    },
    {
      "cell_type": "code",
      "metadata": {
        "colab": {
          "base_uri": "https://localhost:8080/"
        },
        "id": "07FxjE2s1FXG",
        "outputId": "8a612c49-b930-4a98-c910-b041feef1e31"
      },
      "source": [
        "import time\n",
        "\n",
        "n = 10**5\n",
        "a = [10]*n\n",
        "\n",
        "start = time.perf_counter()\n",
        "mergeSort(a)\n",
        "end = time.perf_counter()\n",
        "\n",
        "print(end - start)"
      ],
      "execution_count": null,
      "outputs": [
        {
          "output_type": "stream",
          "text": [
            "0.2775322689994937\n"
          ],
          "name": "stdout"
        }
      ]
    },
    {
      "cell_type": "markdown",
      "metadata": {
        "id": "fnCKMfRBytO0"
      },
      "source": [
        "# Mergesort without Recursion"
      ]
    },
    {
      "cell_type": "code",
      "metadata": {
        "id": "kFESTwiuY5gi"
      },
      "source": [
        "def mergeSort(array):\n",
        "  \n",
        "  if len(array) == 0:\n",
        "    return []\n",
        "\n",
        "  result = []\n",
        "  \n",
        "  for element in array:\n",
        "    result.append([element])\n",
        "\n",
        "  while len(result) > 1:\n",
        "    result.append(merge(result.pop(0), result.pop(0)))\n",
        "\n",
        "  return result[0]\n",
        "\n",
        "\n",
        "def merge(first_array, second_array):\n",
        "\n",
        "  len_first_array = len(first_array)\n",
        "  len_second_array = len(second_array)\n",
        "  i = 0\n",
        "  j = 0\n",
        "  result = []\n",
        "\n",
        "  while True:\n",
        "    if i == len_first_array:\n",
        "      result.extend(second_array[j: ])\n",
        "      break\n",
        "\n",
        "    elif j == len_second_array:\n",
        "      result.extend(first_array[i: ])\n",
        "      break\n",
        "\n",
        "    elif first_array[i] <= second_array[j]:\n",
        "      result.append(first_array[i])\n",
        "      i += 1\n",
        "\n",
        "    else:\n",
        "      result.append(second_array[j])\n",
        "      j += 1\n",
        "\n",
        "  return result"
      ],
      "execution_count": null,
      "outputs": []
    },
    {
      "cell_type": "code",
      "metadata": {
        "colab": {
          "base_uri": "https://localhost:8080/"
        },
        "id": "9kB895gUxa6O",
        "outputId": "3c00fe9a-5c44-4f4a-c067-a07f2635a860"
      },
      "source": [
        "test = [1, 2, 7, 6, 3, 4, 5]\n",
        "print(mergeSort(test))"
      ],
      "execution_count": null,
      "outputs": [
        {
          "output_type": "stream",
          "text": [
            "[1, 2, 3, 4, 5, 6, 7]\n"
          ],
          "name": "stdout"
        }
      ]
    },
    {
      "cell_type": "code",
      "metadata": {
        "colab": {
          "base_uri": "https://localhost:8080/"
        },
        "id": "ESbjj5Zfc0kN",
        "outputId": "44e167ec-4b4a-4a71-ab97-5721696a62bc"
      },
      "source": [
        "n = 10**5\n",
        "a = [10]*n\n",
        "\n",
        "start = time.perf_counter()\n",
        "mergeSort(a)\n",
        "end = time.perf_counter()\n",
        "\n",
        "print(end - start)"
      ],
      "execution_count": null,
      "outputs": [
        {
          "output_type": "stream",
          "text": [
            "5.5524074800014205\n"
          ],
          "name": "stdout"
        }
      ]
    },
    {
      "cell_type": "code",
      "metadata": {
        "colab": {
          "base_uri": "https://localhost:8080/"
        },
        "id": "wJFhbbY67LaF",
        "outputId": "0408c5d1-6f90-4557-dce9-ff5004cc210f"
      },
      "source": [
        "a = []\n",
        "mergeSort(a)"
      ],
      "execution_count": null,
      "outputs": [
        {
          "output_type": "execute_result",
          "data": {
            "text/plain": [
              "[]"
            ]
          },
          "metadata": {
            "tags": []
          },
          "execution_count": 57
        }
      ]
    },
    {
      "cell_type": "code",
      "metadata": {
        "id": "HQjR9_zOD57s"
      },
      "source": [
        ""
      ],
      "execution_count": null,
      "outputs": []
    }
  ]
}