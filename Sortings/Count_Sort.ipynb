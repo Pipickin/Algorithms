{
  "nbformat": 4,
  "nbformat_minor": 0,
  "metadata": {
    "colab": {
      "name": "Count Sort",
      "provenance": [],
      "collapsed_sections": [],
      "authorship_tag": "ABX9TyOIdiTDd0Jdi/OpWsz7H6uF",
      "include_colab_link": true
    },
    "kernelspec": {
      "name": "python3",
      "display_name": "Python 3"
    }
  },
  "cells": [
    {
      "cell_type": "markdown",
      "metadata": {
        "id": "view-in-github",
        "colab_type": "text"
      },
      "source": [
        "<a href=\"https://colab.research.google.com/github/Pipickin/Algorithms/blob/main/Sortings/Count_Sort.ipynb\" target=\"_parent\"><img src=\"https://colab.research.google.com/assets/colab-badge.svg\" alt=\"Open In Colab\"/></a>"
      ]
    },
    {
      "cell_type": "markdown",
      "metadata": {
        "id": "ezy3p2K19LYS"
      },
      "source": [
        "# Count Sort (Sorting without comparison)"
      ]
    },
    {
      "cell_type": "code",
      "metadata": {
        "id": "mvS4a6mCiLpX"
      },
      "source": [
        "def countSort(array, last_element):\n",
        "\n",
        "  counter = [0] * (last_element + 1)\n",
        "  sorted_array = [0] * len(array)\n",
        "\n",
        "  for num in array:\n",
        "    counter[num] += 1\n",
        "\n",
        "  for i in range(1, last_element + 1):\n",
        "    counter[i] += counter[i - 1]\n",
        "\n",
        "  for i in range(len(array) - 1, -1, -1):\n",
        "    sorted_array[counter[array[i]] - 1] = array[i]\n",
        "    counter[array[i]] -= 1\n",
        "\n",
        "  return sorted_array"
      ],
      "execution_count": null,
      "outputs": []
    },
    {
      "cell_type": "code",
      "metadata": {
        "colab": {
          "base_uri": "https://localhost:8080/"
        },
        "id": "IvIBoE7syjbL",
        "outputId": "61f498d3-e0c3-4ce8-ce30-b5a5eb0cf643"
      },
      "source": [
        "a = [1, 3, 5, 5, 2, 3, 4, 1]\n",
        "print(countSort(a, 5))"
      ],
      "execution_count": null,
      "outputs": [
        {
          "output_type": "stream",
          "text": [
            "[1, 1, 2, 3, 3, 4, 5, 5]\n"
          ],
          "name": "stdout"
        }
      ]
    },
    {
      "cell_type": "code",
      "metadata": {
        "colab": {
          "base_uri": "https://localhost:8080/"
        },
        "id": "UAPtKDvJAncL",
        "outputId": "bb6dd4c8-4af5-4db7-fe74-07f87b77ebd9"
      },
      "source": [
        "def main():\n",
        "    \n",
        "    array = [*map(int, input().split())]\n",
        "    print(' '.join(repr(i) for i in countSort(array, 10)))\n",
        "    \n",
        "\n",
        "if __name__ == '__main__':\n",
        "    main()"
      ],
      "execution_count": null,
      "outputs": [
        {
          "output_type": "stream",
          "text": [
            "3 1 10 9 8 7 8 6 6 7 8 1 3 4 10 9 3 2 4 5 5 5 6 7 3 1 2 4 3 8 7 9 6 7\n",
            "1 1 1 2 2 3 3 3 3 3 4 4 4 5 5 5 6 6 6 6 7 7 7 7 7 8 8 8 8 9 9 9 10 10\n"
          ],
          "name": "stdout"
        }
      ]
    }
  ]
}