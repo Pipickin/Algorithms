{
  "nbformat": 4,
  "nbformat_minor": 0,
  "metadata": {
    "colab": {
      "name": "Number of inversions",
      "provenance": [],
      "collapsed_sections": [],
      "authorship_tag": "ABX9TyPDL8BMBI6vyLkMod1mXCLU",
      "include_colab_link": true
    },
    "kernelspec": {
      "name": "python3",
      "display_name": "Python 3"
    }
  },
  "cells": [
    {
      "cell_type": "markdown",
      "metadata": {
        "id": "view-in-github",
        "colab_type": "text"
      },
      "source": [
        "<a href=\"https://colab.research.google.com/github/Pipickin/Algorithms/blob/main/Tasks/Number_of_inversions.ipynb\" target=\"_parent\"><img src=\"https://colab.research.google.com/assets/colab-badge.svg\" alt=\"Open In Colab\"/></a>"
      ]
    },
    {
      "cell_type": "code",
      "metadata": {
        "id": "zQyIHtmjQ7Zo"
      },
      "source": [
        "def get_num_inversions(array):\n",
        "\n",
        "  if len(array) == 0:\n",
        "    return [], 0\n",
        "\n",
        "  midle = len(array)//2\n",
        "  result = array\n",
        "  num = 0\n",
        "\n",
        "  if midle != 0:\n",
        "\n",
        "    left_array = array[: midle]\n",
        "    right_array = array[midle: ]\n",
        "\n",
        "    left_array, left_num = get_num_inversions(left_array)\n",
        "    right_array, right_num = get_num_inversions(right_array)\n",
        "\n",
        "    result, num = merge(left_array, left_num, right_array, right_num)\n",
        "\n",
        "  return result, num\n",
        "\n",
        "\n",
        "def merge(left_array, left_num, right_array, right_num):\n",
        "\n",
        "  num = left_num + right_num\n",
        "  len_left_array = len(left_array)\n",
        "  len_right_array = len(right_array)\n",
        "  i = 0\n",
        "  j = 0\n",
        "  result = []\n",
        "\n",
        "  while True:\n",
        "\n",
        "    if i == len_left_array:\n",
        "      result.extend(right_array[j: ])\n",
        "      break\n",
        "\n",
        "    elif j == len_right_array:\n",
        "      result.extend(left_array[i: ])\n",
        "      break\n",
        "\n",
        "    elif left_array[i] <= right_array[j]:\n",
        "      result.append(left_array[i])\n",
        "      i += 1\n",
        "\n",
        "    else:\n",
        "      result.append(right_array[j])\n",
        "      j += 1\n",
        "      num += len_left_array - i\n",
        "  \n",
        "  return result, num\n",
        "      "
      ],
      "execution_count": null,
      "outputs": []
    },
    {
      "cell_type": "code",
      "metadata": {
        "colab": {
          "base_uri": "https://localhost:8080/"
        },
        "id": "WpyE2-6pUpSh",
        "outputId": "ad33c8e9-e2b3-4f8a-e47e-cbe6ae13d323"
      },
      "source": [
        "def main():\n",
        "\n",
        "  n = int(input())\n",
        "  array = list(map(int, input().split()))\n",
        "\n",
        "  _, num = get_num_inversions(array)\n",
        "  print(num)\n",
        "\n",
        "\n",
        "if __name__ == '__main__':\n",
        "  main()"
      ],
      "execution_count": null,
      "outputs": [
        {
          "output_type": "stream",
          "text": [
            "5\n",
            "1 2 3 5 4\n",
            "1\n"
          ],
          "name": "stdout"
        }
      ]
    },
    {
      "cell_type": "code",
      "metadata": {
        "id": "6uqTRy8fXq23"
      },
      "source": [
        ""
      ],
      "execution_count": null,
      "outputs": []
    }
  ]
}