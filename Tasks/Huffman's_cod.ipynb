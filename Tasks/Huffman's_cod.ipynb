{
  "nbformat": 4,
  "nbformat_minor": 0,
  "metadata": {
    "colab": {
      "name": "Huffman's cod",
      "provenance": [],
      "collapsed_sections": [
        "oVP2tOE5jcPO",
        "z9sxCKOG2okX",
        "a_dD-VgO2vls",
        "49jR2PQtsO5b",
        "otKBLHWxU46E"
      ],
      "authorship_tag": "ABX9TyMWATYX1AIwc5tYw4g/AbZX",
      "include_colab_link": true
    },
    "kernelspec": {
      "name": "python3",
      "display_name": "Python 3"
    }
  },
  "cells": [
    {
      "cell_type": "markdown",
      "metadata": {
        "id": "view-in-github",
        "colab_type": "text"
      },
      "source": [
        "<a href=\"https://colab.research.google.com/github/Pipickin/Algorithms/blob/main/Tasks/Huffman's_cod.ipynb\" target=\"_parent\"><img src=\"https://colab.research.google.com/assets/colab-badge.svg\" alt=\"Open In Colab\"/></a>"
      ]
    },
    {
      "cell_type": "markdown",
      "metadata": {
        "id": "oVP2tOE5jcPO"
      },
      "source": [
        "# Coding\n"
      ]
    },
    {
      "cell_type": "markdown",
      "metadata": {
        "id": "z9sxCKOG2okX"
      },
      "source": [
        "## First solve\n"
      ]
    },
    {
      "cell_type": "code",
      "metadata": {
        "id": "pqwypkQ4TQu_"
      },
      "source": [
        "from collections import Counter\n",
        "\n",
        "\n",
        "def huffman_cod(inputs):\n",
        "\n",
        "  cnt = Counter(inputs)\n",
        "  keys = cnt.keys()\n",
        "  # cnt = {k: v for k, v in sorted(cnt.items(), key = lambda x: x[1])}\n",
        "  cnt = sorted(cnt.items(), key=lambda x: x[1], reverse=True)\n",
        "  # print(\"Sorted: \", cnt)\n",
        "  hum = []\n",
        "\n",
        "  print(cnt)\n",
        "\n",
        "  if len(cnt) == 1:\n",
        "    hum.append((cnt.pop()[0], '0'))\n",
        "\n",
        "  else:\n",
        "    while len(cnt) != 1:\n",
        "      first_min = cnt.pop()\n",
        "      second_min = cnt.pop()\n",
        "      new_node = (first_min[0] + second_min[0], first_min[1] + second_min[1])\n",
        "\n",
        "      hum.append((first_min[0], '1'))\n",
        "      hum.append((second_min[0], '0'))\n",
        "\n",
        "      cnt.append(new_node)\n",
        "      cnt.sort(key=lambda x: x[1], reverse=True)\n",
        "\n",
        "  # print('After while: ', cnt)\n",
        "  # print('Huff: ', hum)\n",
        "\n",
        "  hum.sort(key=lambda x: len(x[0]), reverse=True)\n",
        "  coding = {}\n",
        "\n",
        "  for key in keys:\n",
        "    value = ''\n",
        "\n",
        "    for string, code in hum:\n",
        "      if key in string:\n",
        "        value += code\n",
        "    coding[key] = value\n",
        "\n",
        "  inputs_after_coding = ''\n",
        "  for element in inputs:\n",
        "    inputs_after_coding += coding[element]\n",
        "\n",
        "  print(len(coding), len(inputs_after_coding))\n",
        "  for key, value in coding.items():\n",
        "    print('{}: {}'.format(key, value))\n",
        "\n",
        "  print(inputs_after_coding)\n"
      ],
      "execution_count": null,
      "outputs": []
    },
    {
      "cell_type": "code",
      "metadata": {
        "id": "kB29aeUdQIP0",
        "colab": {
          "base_uri": "https://localhost:8080/"
        },
        "outputId": "f8290c8a-f8d0-461e-90dc-7669fbfcc677"
      },
      "source": [
        "def main():\n",
        "\n",
        "  string = input()\n",
        "  huffman_cod(string)\n",
        "\n",
        "if __name__ == '__main__':\n",
        "  main()"
      ],
      "execution_count": null,
      "outputs": [
        {
          "output_type": "stream",
          "text": [
            "abacadabra\n",
            "[('a', 5), ('b', 2), ('c', 1), ('d', 1), ('r', 1)]\n",
            "5 20\n",
            "a: 0\n",
            "b: 11\n",
            "c: 101\n",
            "d: 1000\n",
            "r: 1001\n",
            "01101010100001110010\n"
          ],
          "name": "stdout"
        }
      ]
    },
    {
      "cell_type": "markdown",
      "metadata": {
        "id": "a_dD-VgO2vls"
      },
      "source": [
        "## Another solve"
      ]
    },
    {
      "cell_type": "code",
      "metadata": {
        "id": "SIsTt_nJ3_vR",
        "colab": {
          "base_uri": "https://localhost:8080/"
        },
        "outputId": "785d9e6c-9ae2-45e6-ce4a-bd053ddca8b6"
      },
      "source": [
        "import collections\n",
        "\n",
        "def popmin(tree, codes, num):\n",
        "    el = tree.pop(tree.index(min(tree)))\n",
        "    for s in el[1]:\n",
        "        codes[s] = num + codes[s]\n",
        "    print(el[1])\n",
        "    return el[0], el[1]\n",
        "\n",
        "def main():\n",
        "    sss     = input().strip()\n",
        "    count   = collections.Counter(sss)\n",
        "    codes   = dict.fromkeys(count, '0' if len(count) == 1 else '')\n",
        "    tree    = [[count[key], key] for key in count]    \n",
        "    while len(tree) > 1:\n",
        "        val1, s1 = popmin(tree, codes, '0')\n",
        "        val2, s2 = popmin(tree, codes, '1')\n",
        "        tree.append([val1 + val2, s1 + s2])         \n",
        "    word = ''.join(codes[s] for s in sss)\n",
        "    print(len(count), len(word))\n",
        "    [print('{}: {}'.format(k, codes[k])) for k in sorted(codes)]\n",
        "    print(word)\n",
        "    \n",
        "if __name__ == '__main__':\n",
        "    main()"
      ],
      "execution_count": null,
      "outputs": [
        {
          "output_type": "stream",
          "text": [
            "nfeg nfef\n",
            " \n",
            "g\n",
            " g\n",
            "e\n",
            "n\n",
            "f\n",
            " ge\n",
            "nf\n",
            "5 20\n",
            " : 000\n",
            "e: 01\n",
            "f: 11\n",
            "g: 001\n",
            "n: 10\n",
            "10110100100010110111\n"
          ],
          "name": "stdout"
        }
      ]
    },
    {
      "cell_type": "markdown",
      "metadata": {
        "id": "49jR2PQtsO5b"
      },
      "source": [
        "## Coding by heap"
      ]
    },
    {
      "cell_type": "code",
      "metadata": {
        "id": "Y-z0wmI2sZFU",
        "colab": {
          "base_uri": "https://localhost:8080/"
        },
        "outputId": "87c9a482-0766-4ae2-e7ab-3b60aeaa2624"
      },
      "source": [
        "from collections import Counter, namedtuple\n",
        "import heapq\n",
        "\n",
        "Node = namedtuple('Node', ['left', 'right'])\n",
        "Leaf = namedtuple('Leaf', ['char'])\n",
        "\n",
        "\n",
        "def huffman_encode(s):\n",
        "  \n",
        "  h = [(freq, Leaf(ch)) for ch, freq in Counter(s).items()]\n",
        "  heapq.heapify(h)\n",
        "\n",
        "  while len(h) > 1:\n",
        "    freq1, left = heapq.heappop(h)\n",
        "    freq2, right = heapq.heappop(h)\n",
        "    heapq.heappush(h, (freq1 + freq2, Node(left + right)))\n",
        "\n",
        "  [(_freq, root)] = h\n",
        "\n",
        "  code = {}\n",
        "  return code\n",
        "\n",
        "\n",
        "def main():\n",
        "  s = input()\n",
        "  code = huffman_encode(s)\n",
        "  encoded = \"\".join(code[ch] for ch in s)\n",
        "  print(len(code), len(encoded))\n",
        "  for ch in sorted(code):\n",
        "    print('{}: {}'.format(ch, code[ch]))\n",
        "  print(encoded)\n",
        "\n",
        "\n",
        "\n",
        "if __name__ == '__main__':\n",
        "  main()"
      ],
      "execution_count": null,
      "outputs": [
        {
          "output_type": "stream",
          "text": [
            "gegwe\n",
            "3 5\n",
            "e: e\n",
            "g: g\n",
            "w: w\n",
            "gegwe\n"
          ],
          "name": "stdout"
        }
      ]
    },
    {
      "cell_type": "markdown",
      "metadata": {
        "id": "otKBLHWxU46E"
      },
      "source": [
        "# Decoding"
      ]
    },
    {
      "cell_type": "code",
      "metadata": {
        "id": "BMXQGLL8jhiO"
      },
      "source": [
        "def huffman_decod(data, sss):\n",
        "\n",
        "  data.sort(key=lambda x: x[1])\n",
        "\n",
        "  outputs = ''\n",
        "  temp    = ''\n",
        "\n",
        "  for i in range(len(sss)):\n",
        "    temp += sss[i]\n",
        "    for key_value in data:\n",
        "      if temp == key_value[1]:\n",
        "        outputs += key_value[0]\n",
        "        temp = ''\n",
        "        break\n",
        "  \n",
        "  print(outputs)\n",
        "  "
      ],
      "execution_count": null,
      "outputs": []
    },
    {
      "cell_type": "code",
      "metadata": {
        "id": "vvCQD5pNp8QV",
        "colab": {
          "base_uri": "https://localhost:8080/"
        },
        "outputId": "bc437998-7e99-4d13-913c-ea56c255b5b7"
      },
      "source": [
        "def main():\n",
        "\n",
        "  n, size = list(map(int, input().split()))\n",
        "  data = [input().split(': ') for _ in range(n)]\n",
        "  sss = input()\n",
        "\n",
        "  huffman_decod(data=data, sss=sss)\n",
        "\n",
        "if __name__ == '__main__':\n",
        "  main()"
      ],
      "execution_count": null,
      "outputs": [
        {
          "output_type": "stream",
          "text": [
            "4 14\n",
            "a: 0\n",
            "b: 10\n",
            "c: 110\n",
            "d: 111\n",
            "01001100100111\n",
            "abacabad\n"
          ],
          "name": "stdout"
        }
      ]
    },
    {
      "cell_type": "code",
      "metadata": {
        "id": "ssjGJs8OpcXh",
        "colab": {
          "base_uri": "https://localhost:8080/",
          "height": 35
        },
        "outputId": "e67480e6-b0d9-4188-9507-9986f1065e47"
      },
      "source": [
        "# a = '110011110101110110'\n",
        "# b = [['c', '110'],\n",
        "#      ['a', '0'],\n",
        "#      ['d', '111'],\n",
        "#      ['b', '10']]\n",
        "\n",
        "a = '1000100'\n",
        "b = [['a', '0'],\n",
        "      ['b', '10']]\n",
        "\n",
        "b.sort(key=lambda x: x[1])\n",
        "\n",
        "size    = len(a)\n",
        "outputs = ''\n",
        "temp    = ''\n",
        "\n",
        "for i in range(size):\n",
        "  temp += a[i]\n",
        "  for block in b:\n",
        "    if temp == block[1]:\n",
        "      outputs += block[0]\n",
        "      temp = ''\n",
        "      break\n",
        "        \n",
        "outputs"
      ],
      "execution_count": null,
      "outputs": [
        {
          "output_type": "execute_result",
          "data": {
            "application/vnd.google.colaboratory.intrinsic+json": {
              "type": "string"
            },
            "text/plain": [
              "'baaba'"
            ]
          },
          "metadata": {
            "tags": []
          },
          "execution_count": 142
        }
      ]
    },
    {
      "cell_type": "code",
      "metadata": {
        "id": "sfpV_YhSqBhg",
        "colab": {
          "base_uri": "https://localhost:8080/"
        },
        "outputId": "4abfb69d-6a95-4fc2-ec18-ebe15d590887"
      },
      "source": [
        "def a():\n",
        "  for i in range(6):\n",
        "    print(i)\n",
        "    if i == 2:\n",
        "      break\n",
        "  print('00000000000')\n",
        "\n",
        "a()"
      ],
      "execution_count": null,
      "outputs": [
        {
          "output_type": "stream",
          "text": [
            "0\n",
            "1\n",
            "2\n",
            "00000000000\n"
          ],
          "name": "stdout"
        }
      ]
    },
    {
      "cell_type": "code",
      "metadata": {
        "id": "fP4vDWg9k3hL",
        "colab": {
          "base_uri": "https://localhost:8080/",
          "height": 35
        },
        "outputId": "45d623d9-8c86-4c12-81a6-8a6bb49b3032"
      },
      "source": [
        "a = '110011110101110110'\n",
        "temp = ''\n",
        "for i in range(len(a)):\n",
        "  temp += a[i]\n",
        "\n",
        "temp"
      ],
      "execution_count": null,
      "outputs": [
        {
          "output_type": "execute_result",
          "data": {
            "application/vnd.google.colaboratory.intrinsic+json": {
              "type": "string"
            },
            "text/plain": [
              "'110011110101110110'"
            ]
          },
          "metadata": {
            "tags": []
          },
          "execution_count": 113
        }
      ]
    },
    {
      "cell_type": "code",
      "metadata": {
        "id": "eOHK-FZanEtY"
      },
      "source": [
        ""
      ],
      "execution_count": null,
      "outputs": []
    }
  ]
}