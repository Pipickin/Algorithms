{
  "nbformat": 4,
  "nbformat_minor": 0,
  "metadata": {
    "colab": {
      "name": "bin search",
      "provenance": [],
      "collapsed_sections": [],
      "authorship_tag": "ABX9TyMPXOCkJtsCFwKNjZj5Fu3q",
      "include_colab_link": true
    },
    "kernelspec": {
      "name": "python3",
      "display_name": "Python 3"
    }
  },
  "cells": [
    {
      "cell_type": "markdown",
      "metadata": {
        "id": "view-in-github",
        "colab_type": "text"
      },
      "source": [
        "<a href=\"https://colab.research.google.com/github/Pipickin/Algorithms/blob/main/Tasks/bin_search.ipynb\" target=\"_parent\"><img src=\"https://colab.research.google.com/assets/colab-badge.svg\" alt=\"Open In Colab\"/></a>"
      ]
    },
    {
      "cell_type": "code",
      "metadata": {
        "id": "AIUIVTCJ4Om9"
      },
      "source": [
        "def bin_search(n, A, key):\n",
        "\n",
        "  l = 0\n",
        "  r = n - 1\n",
        "\n",
        "  while l <= r:\n",
        "      av = int(l + (r - l) / 2)\n",
        "      if A[av] == key:\n",
        "          return av + 1\n",
        "      elif A[av] > key:\n",
        "          r = av - 1\n",
        "      else:\n",
        "          l = av + 1\n",
        "  return -1 \n",
        "\n",
        "\n",
        "def array_bin_search(n, A, keys):\n",
        "\n",
        "  for key in keys:\n",
        "    print(bin_search(n, A, key), end=' ')"
      ],
      "execution_count": null,
      "outputs": []
    },
    {
      "cell_type": "code",
      "metadata": {
        "colab": {
          "base_uri": "https://localhost:8080/"
        },
        "id": "lnGvDnsJuANz",
        "outputId": "222f9d3c-9fad-4596-bbcc-f44a0926b8c2"
      },
      "source": [
        "def main():\n",
        "\n",
        "  n, *A = map(int, input().split())\n",
        "  k, *B = map(int, input().split())\n",
        "\n",
        "  array_bin_search(n, A, B)\n",
        "\n",
        "if __name__ == '__main__':\n",
        "  main()"
      ],
      "execution_count": null,
      "outputs": [
        {
          "output_type": "stream",
          "text": [
            "0\n",
            "1 1\n",
            "-1 "
          ],
          "name": "stdout"
        }
      ]
    },
    {
      "cell_type": "code",
      "metadata": {
        "colab": {
          "base_uri": "https://localhost:8080/"
        },
        "id": "vO7sPhuu8lLi",
        "outputId": "6733ece8-2fdb-4d12-a868-2aec3c4020c2"
      },
      "source": [
        "k, *B = map(int, input().split())"
      ],
      "execution_count": null,
      "outputs": [
        {
          "output_type": "stream",
          "text": [
            "1 2 4  6 7 \n"
          ],
          "name": "stdout"
        }
      ]
    },
    {
      "cell_type": "code",
      "metadata": {
        "colab": {
          "base_uri": "https://localhost:8080/"
        },
        "id": "rs2Ymku9JeXb",
        "outputId": "e1c7862e-6921-4b71-b70f-fd44228e7182"
      },
      "source": [
        "for i in B:\n",
        "  print(type(i))"
      ],
      "execution_count": null,
      "outputs": [
        {
          "output_type": "stream",
          "text": [
            "<class 'int'>\n",
            "<class 'int'>\n",
            "<class 'int'>\n",
            "<class 'int'>\n"
          ],
          "name": "stdout"
        }
      ]
    },
    {
      "cell_type": "code",
      "metadata": {
        "id": "k-QnaaBZKBSH"
      },
      "source": [
        ""
      ],
      "execution_count": null,
      "outputs": []
    }
  ]
}