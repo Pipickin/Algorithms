{
  "nbformat": 4,
  "nbformat_minor": 0,
  "metadata": {
    "colab": {
      "name": "Editing Distance",
      "provenance": [],
      "collapsed_sections": [
        "VhEcVmGaqVFj",
        "9UPK1Ezko0qa"
      ],
      "authorship_tag": "ABX9TyNH3jPsrk4ftTyyC1sZQJFD",
      "include_colab_link": true
    },
    "kernelspec": {
      "name": "python3",
      "display_name": "Python 3"
    }
  },
  "cells": [
    {
      "cell_type": "markdown",
      "metadata": {
        "id": "view-in-github",
        "colab_type": "text"
      },
      "source": [
        "<a href=\"https://colab.research.google.com/github/Pipickin/Algorithms/blob/main/Tasks/Editing_Distance.ipynb\" target=\"_parent\"><img src=\"https://colab.research.google.com/assets/colab-badge.svg\" alt=\"Open In Colab\"/></a>"
      ]
    },
    {
      "cell_type": "markdown",
      "metadata": {
        "id": "VhEcVmGaqVFj"
      },
      "source": [
        "# Editing Distance by recursion"
      ]
    },
    {
      "cell_type": "code",
      "metadata": {
        "id": "apRbzJ7Se7e9"
      },
      "source": [
        "from math import inf\n",
        "\n",
        "\n",
        "def diff(a, b):\n",
        "    return 0 if a == b else 1\n",
        "\n",
        "\n",
        "def editingDistanceBU(first_string, second_string) -> int:\n",
        "\n",
        "    len_first = len(first_string)\n",
        "    len_second = len(second_string)\n",
        "    dist = [[inf] * (len_second + 1) for _ in range(len_first + 1)]\n",
        "\n",
        "    dist[0] = [j for j in range(len_second + 1)]\n",
        "    for i in range(len_first + 1):\n",
        "        dist[i][0] = i\n",
        "\n",
        "    for i in range(1, len_first + 1):\n",
        "        for j in range(1, len_second + 1):\n",
        "            dif = diff(first_string[i - 1], second_string[j - 1])\n",
        "            dist[i][j] = min(dist[i - 1][j] + 1, dist[i][j - 1] + 1, dist[i - 1][j - 1] + dif)\n",
        "\n",
        "    return dist[len_first][len_second]"
      ],
      "execution_count": null,
      "outputs": []
    },
    {
      "cell_type": "code",
      "metadata": {
        "colab": {
          "base_uri": "https://localhost:8080/"
        },
        "id": "o5ZwVQrklmzF",
        "outputId": "9e754d0f-b0b2-417b-e553-b685a12b2fe5"
      },
      "source": [
        "def main():\n",
        "\n",
        "    first_sss = input()\n",
        "    second_sss = input()\n",
        "    print(editingDistanceBU(first_sss, second_sss))\n",
        "\n",
        "\n",
        "if __name__ =='__main__':\n",
        "    main()"
      ],
      "execution_count": null,
      "outputs": [
        {
          "output_type": "stream",
          "text": [
            "editing\n",
            "distance\n",
            "5\n"
          ],
          "name": "stdout"
        }
      ]
    },
    {
      "cell_type": "markdown",
      "metadata": {
        "id": "9UPK1Ezko0qa"
      },
      "source": [
        "# Editing Distance by iteration"
      ]
    },
    {
      "cell_type": "code",
      "metadata": {
        "id": "YZYoyrx3r9wf"
      },
      "source": [
        "from math import inf\n",
        "\n",
        "\n",
        "def editingDistanceBU(first_string, second_string):\n",
        "\n",
        "    first_string = '_' + first_string\n",
        "    second_string = '_' + second_string\n",
        "    len_first = len(first_string)\n",
        "    len_second = len(second_string)\n",
        "    dist_array = [j for j in range(len_first)]\n",
        "\n",
        "    for i in range(1, len_second):\n",
        "        for j in range(len_first):\n",
        "            dist = i if j == 0 else min(dist_array[j - 1] + 1, dist_array[j] + 1, mem + int(first_string[j] != second_string[i]))\n",
        "            mem = dist_array[j]\n",
        "            dist_array[j] = dist\n",
        "    \n",
        "    return dist_array[-1]"
      ],
      "execution_count": null,
      "outputs": []
    },
    {
      "cell_type": "code",
      "metadata": {
        "colab": {
          "base_uri": "https://localhost:8080/"
        },
        "id": "4YWc6-metGxR",
        "outputId": "4c3df2d6-4f1c-4baa-80d7-4d49e86e0115"
      },
      "source": [
        "def main():\n",
        "\n",
        "    first_sss = input()\n",
        "    second_sss = input()\n",
        "    print(editingDistanceBU(first_sss, second_sss))\n",
        "\n",
        "\n",
        "if __name__ =='__main__':\n",
        "    main()"
      ],
      "execution_count": null,
      "outputs": [
        {
          "output_type": "stream",
          "text": [
            "editing\n",
            "distance\n",
            "5\n"
          ],
          "name": "stdout"
        }
      ]
    },
    {
      "cell_type": "code",
      "metadata": {
        "id": "BWVGSFqjNmhm"
      },
      "source": [
        ""
      ],
      "execution_count": null,
      "outputs": []
    }
  ]
}