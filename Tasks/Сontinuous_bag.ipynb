{
  "nbformat": 4,
  "nbformat_minor": 0,
  "metadata": {
    "colab": {
      "name": "Сontinuous bag",
      "provenance": [],
      "collapsed_sections": [],
      "authorship_tag": "ABX9TyNXPa3hF8YAMjui6kCij0+d",
      "include_colab_link": true
    },
    "kernelspec": {
      "name": "python3",
      "display_name": "Python 3"
    }
  },
  "cells": [
    {
      "cell_type": "markdown",
      "metadata": {
        "id": "view-in-github",
        "colab_type": "text"
      },
      "source": [
        "<a href=\"https://colab.research.google.com/github/Pipickin/Algorithms/blob/main/Tasks/%D0%A1ontinuous_bag.ipynb\" target=\"_parent\"><img src=\"https://colab.research.google.com/assets/colab-badge.svg\" alt=\"Open In Colab\"/></a>"
      ]
    },
    {
      "cell_type": "markdown",
      "metadata": {
        "id": "yY89renH20OY"
      },
      "source": [
        "# Bag with sort\n"
      ]
    },
    {
      "cell_type": "code",
      "metadata": {
        "id": "0mLzJN3k82vW"
      },
      "source": [
        "def cont_bag(data, size):\n",
        "  \n",
        "  data.sort(key=lambda x: x[0]/x[1], reverse=True)\n",
        "  w = size\n",
        "  total_price = 0.\n",
        "\n",
        "  for product in data:\n",
        "    pi = product[0]\n",
        "    ni = product[1]\n",
        "\n",
        "    if ni <= w:\n",
        "      w -= ni\n",
        "      total_price += pi\n",
        "    else:\n",
        "      total_price += w*(pi/ni)\n",
        "      break\n",
        "\n",
        "  print('{:.3f}'.format(total_price))"
      ],
      "execution_count": null,
      "outputs": []
    },
    {
      "cell_type": "code",
      "metadata": {
        "id": "716jdh1440Mr",
        "colab": {
          "base_uri": "https://localhost:8080/"
        },
        "outputId": "43e92bac-af14-4efc-bf26-e485d7af9826"
      },
      "source": [
        "def main():\n",
        "\n",
        "  n, size = list(map(int, input().split()))\n",
        "  data = [list(map(int, input().split())) for _ in range(n)]\n",
        "\n",
        "  cont_bag(data, size)\n",
        "\n",
        "if __name__ == '__main__':\n",
        "  main()"
      ],
      "execution_count": null,
      "outputs": [
        {
          "output_type": "stream",
          "text": [
            "1.333\n"
          ],
          "name": "stdout"
        }
      ]
    },
    {
      "cell_type": "markdown",
      "metadata": {
        "id": "4fCMnEwF-55T"
      },
      "source": [
        "# Bag by heap"
      ]
    },
    {
      "cell_type": "code",
      "metadata": {
        "id": "Re033UEzGBjc"
      },
      "source": [
        "import heapq\n",
        "\n",
        "def cont_bag_heap(data, size):\n",
        "  \n",
        "  order = [(-v/w, w) for v, w in data]\n",
        "  heapq.heapify(order)\n",
        "\n",
        "  capacity = size\n",
        "  total_price = 0.\n",
        "\n",
        "  while order:\n",
        "    v_per_w, w = heapq.heappop(order)\n",
        "    if w < capacity:\n",
        "      total_price += - v_per_w * w\n",
        "      capacity -= w\n",
        "    else:\n",
        "      total_price += -v_per_w * capacity\n",
        "      break\n",
        "\n",
        "  print('{:.3f}'.format(total_price))\n"
      ],
      "execution_count": null,
      "outputs": []
    },
    {
      "cell_type": "code",
      "metadata": {
        "colab": {
          "base_uri": "https://localhost:8080/"
        },
        "id": "GA1vLhtV3G1j",
        "outputId": "ce9c0710-7e04-4f8f-9883-0283577fa011"
      },
      "source": [
        "def main():\n",
        "\n",
        "  n, size = list(map(int, input().split()))\n",
        "  data = [list(map(int, input().split())) for _ in range(n)]\n",
        "\n",
        "  cont_bag_heap(data, size)\n",
        "\n",
        "if __name__ == '__main__':\n",
        "  main()\n"
      ],
      "execution_count": null,
      "outputs": [
        {
          "output_type": "stream",
          "text": [
            "3 50\n",
            "60 20\n",
            "100 50\n",
            "120 30\n",
            "180.000\n"
          ],
          "name": "stdout"
        }
      ]
    },
    {
      "cell_type": "code",
      "metadata": {
        "id": "cOWAlH7g-zC3"
      },
      "source": [
        "def test():\n",
        "  assert \n",
        "\n",
        "if __name__ == '__main__':\n",
        "  test()"
      ],
      "execution_count": null,
      "outputs": []
    }
  ]
}