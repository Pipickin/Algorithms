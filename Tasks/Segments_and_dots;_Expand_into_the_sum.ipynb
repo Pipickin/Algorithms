{
  "nbformat": 4,
  "nbformat_minor": 0,
  "metadata": {
    "colab": {
      "name": "Segments and dots; Expand into the sum",
      "provenance": [],
      "collapsed_sections": [
        "Wx_gXdekPM0G"
      ],
      "authorship_tag": "ABX9TyNnQpMmFgdmamPqS9VxLym8",
      "include_colab_link": true
    },
    "kernelspec": {
      "name": "python3",
      "display_name": "Python 3"
    }
  },
  "cells": [
    {
      "cell_type": "markdown",
      "metadata": {
        "id": "view-in-github",
        "colab_type": "text"
      },
      "source": [
        "<a href=\"https://colab.research.google.com/github/Pipickin/Algorithms/blob/main/Tasks/Segments_and_dots%3B_Expand_into_the_sum.ipynb\" target=\"_parent\"><img src=\"https://colab.research.google.com/assets/colab-badge.svg\" alt=\"Open In Colab\"/></a>"
      ]
    },
    {
      "cell_type": "markdown",
      "metadata": {
        "id": "Wx_gXdekPM0G"
      },
      "source": [
        "# Cover Segments"
      ]
    },
    {
      "cell_type": "code",
      "metadata": {
        "id": "Uslr7ubX75VO",
        "colab": {
          "base_uri": "https://localhost:8080/"
        },
        "outputId": "c229ba8b-fed9-4f5d-849e-8090579ff25d"
      },
      "source": [
        "data = [(1, 2), (2, 6), (5, 10), (1, 4), (5, 11), (1, 9)]\n",
        "data.sort(key=lambda tup: tup[1])\n",
        "\n",
        "data"
      ],
      "execution_count": null,
      "outputs": [
        {
          "output_type": "execute_result",
          "data": {
            "text/plain": [
              "[(1, 2), (1, 4), (2, 6), (1, 9), (5, 10), (5, 11)]"
            ]
          },
          "metadata": {
            "tags": []
          },
          "execution_count": 16
        }
      ]
    },
    {
      "cell_type": "code",
      "metadata": {
        "id": "PnSgSLhS8qvD"
      },
      "source": [
        "def cover_segments(data):\n",
        "  data.sort(key=lambda tup: tup[1])\n",
        "  \n",
        "  i = 1\n",
        "  r0 = data[0][1]\n",
        "  points = [r0]\n",
        "  \n",
        "  if len(data) == 1:\n",
        "    return i, points\n",
        "\n",
        "  for l, r in data[1:]:\n",
        "    if l >= r0:\n",
        "      i += 1\n",
        "      r0 = r\n",
        "      points.append(r0)\n",
        "\n",
        "  return i, points"
      ],
      "execution_count": null,
      "outputs": []
    },
    {
      "cell_type": "code",
      "metadata": {
        "id": "ThuAlZf89wBT",
        "colab": {
          "base_uri": "https://localhost:8080/"
        },
        "outputId": "aa093bda-609c-4f53-f605-cf678fee865e"
      },
      "source": [
        "cover_segments(data)"
      ],
      "execution_count": null,
      "outputs": [
        {
          "output_type": "execute_result",
          "data": {
            "text/plain": [
              "(2, [2, 6])"
            ]
          },
          "metadata": {
            "tags": []
          },
          "execution_count": 17
        }
      ]
    },
    {
      "cell_type": "code",
      "metadata": {
        "id": "dN43i3oG4AfT",
        "colab": {
          "base_uri": "https://localhost:8080/"
        },
        "outputId": "55cdbd73-d3ba-4443-c7f3-0322a7c84315"
      },
      "source": [
        "def main():\n",
        "\n",
        "    n = int(input())\n",
        "    data = [[int(x) for x in input().split()] for i in range(n)]\n",
        "\n",
        "    number, points = cover_segments(data)\n",
        "    print(number)\n",
        "    print(\" \".join(repr(p) for p in points)) \n",
        "\n",
        "if __name__ == \"__main__\":\n",
        "    main()"
      ],
      "execution_count": null,
      "outputs": [
        {
          "output_type": "stream",
          "text": [
            "1\n",
            "1 2\n",
            "1\n",
            "2\n"
          ],
          "name": "stdout"
        }
      ]
    },
    {
      "cell_type": "code",
      "metadata": {
        "id": "BipNaEjIBgxE",
        "colab": {
          "base_uri": "https://localhost:8080/"
        },
        "outputId": "361765e7-6264-410a-bef7-318b0b7d6a46"
      },
      "source": [
        "n = int(input())"
      ],
      "execution_count": null,
      "outputs": [
        {
          "output_type": "stream",
          "text": [
            "6\n"
          ],
          "name": "stdout"
        }
      ]
    },
    {
      "cell_type": "code",
      "metadata": {
        "id": "8IsOhQ-WBXJ3",
        "colab": {
          "base_uri": "https://localhost:8080/"
        },
        "outputId": "51eadf73-6003-4d5f-a3f5-398c91a6c151"
      },
      "source": [
        "data = []\n",
        "x = tuple(map(int, input().split()))\n",
        "data.append(x)"
      ],
      "execution_count": null,
      "outputs": [
        {
          "output_type": "stream",
          "text": [
            "24 124\n"
          ],
          "name": "stdout"
        }
      ]
    },
    {
      "cell_type": "code",
      "metadata": {
        "id": "pVE1NkCvCJGx",
        "colab": {
          "base_uri": "https://localhost:8080/"
        },
        "outputId": "2e6b4b1f-eb61-4fb5-cbf0-a1b431c099ed"
      },
      "source": [
        "[[int(x) for x in input().split()] for i in range(n)]"
      ],
      "execution_count": null,
      "outputs": [
        {
          "output_type": "stream",
          "text": [
            "12 42\n",
            "42 42\n",
            "42 2\n",
            "1 2\n",
            "40 100\n",
            "2 10\n"
          ],
          "name": "stdout"
        },
        {
          "output_type": "execute_result",
          "data": {
            "text/plain": [
              "[[12, 42], [42, 42], [42, 2], [1, 2], [40, 100], [2, 10]]"
            ]
          },
          "metadata": {
            "tags": []
          },
          "execution_count": 66
        }
      ]
    },
    {
      "cell_type": "code",
      "metadata": {
        "id": "MgLtY_TWDhdj",
        "colab": {
          "base_uri": "https://localhost:8080/"
        },
        "outputId": "529830c6-5231-4863-d723-187bbc9dd6d5"
      },
      "source": [
        "a = [1, 4, 4, 5, 6, 7, 7]\n",
        "b = set(a)\n",
        "print(\" \".join(repr(p) for p in b))"
      ],
      "execution_count": null,
      "outputs": [
        {
          "output_type": "stream",
          "text": [
            "1 4 5 6 7\n"
          ],
          "name": "stdout"
        }
      ]
    },
    {
      "cell_type": "markdown",
      "metadata": {
        "id": "jIZ-zEjoX-AQ"
      },
      "source": [
        "# Expand into the sum\n"
      ]
    },
    {
      "cell_type": "code",
      "metadata": {
        "id": "VS9w-bugPWXh"
      },
      "source": [
        "def expand_in_sum(n):\n",
        "\n",
        "  if n == 1:\n",
        "    return 1, [1]\n",
        "\n",
        "  terms = []\n",
        "  i = 0\n",
        "  for reduce in range(1, n):\n",
        "    new_n = n - reduce\n",
        "    if new_n > reduce:\n",
        "      terms.append(reduce)\n",
        "      i += 1\n",
        "      n = new_n\n",
        "    else:\n",
        "      terms.append(n)\n",
        "      i += 1\n",
        "      break\n",
        "    \n",
        "  return i, terms"
      ],
      "execution_count": null,
      "outputs": []
    },
    {
      "cell_type": "code",
      "metadata": {
        "id": "FPMunPsxR_V6",
        "colab": {
          "base_uri": "https://localhost:8080/"
        },
        "outputId": "9afe8414-b331-4f48-a99d-8428701493e9"
      },
      "source": [
        "expand_in_sum(10)"
      ],
      "execution_count": null,
      "outputs": [
        {
          "output_type": "execute_result",
          "data": {
            "text/plain": [
              "(4, [1, 2, 3, 4])"
            ]
          },
          "metadata": {
            "tags": []
          },
          "execution_count": 38
        }
      ]
    },
    {
      "cell_type": "code",
      "metadata": {
        "id": "y16srf8-PpV2",
        "colab": {
          "base_uri": "https://localhost:8080/"
        },
        "outputId": "9ed5acfc-645a-4ee4-a040-9cdeb7222ddc"
      },
      "source": [
        "def main():\n",
        "\n",
        "    n = int(input())\n",
        "\n",
        "    count, numbers = expand_in_sum(n)\n",
        "    print(count)\n",
        "    print(\" \".join(repr(number) for number in numbers)) \n",
        "\n",
        "if __name__ == \"__main__\":\n",
        "    main()"
      ],
      "execution_count": null,
      "outputs": [
        {
          "output_type": "stream",
          "text": [
            "2\n",
            "1\n",
            "2\n"
          ],
          "name": "stdout"
        }
      ]
    },
    {
      "cell_type": "code",
      "metadata": {
        "id": "5L6BVNZPQGkC"
      },
      "source": [
        "def sum_by_discrim(n):\n",
        "  k = int((-1 + (1 + 8*n)**0.5)/2)\n",
        "  print(k)\n",
        "\n",
        "  s = 0\n",
        "  for i in range(1, k):\n",
        "    print(i, end=' ')\n",
        "    s += i\n",
        "  \n",
        "  print(n - s)"
      ],
      "execution_count": null,
      "outputs": []
    },
    {
      "cell_type": "code",
      "metadata": {
        "id": "XagKVsTf2ii-",
        "colab": {
          "base_uri": "https://localhost:8080/"
        },
        "outputId": "d7150476-38fe-4fe5-f5e9-657d4fc8d8f2"
      },
      "source": [
        "sum_by_discrim(10)"
      ],
      "execution_count": null,
      "outputs": [
        {
          "output_type": "stream",
          "text": [
            "4\n",
            "1 2 3 4\n"
          ],
          "name": "stdout"
        }
      ]
    },
    {
      "cell_type": "code",
      "metadata": {
        "id": "t0ans5xN2kPi"
      },
      "source": [
        ""
      ],
      "execution_count": null,
      "outputs": []
    }
  ]
}