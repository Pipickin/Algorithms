{
  "nbformat": 4,
  "nbformat_minor": 0,
  "metadata": {
    "colab": {
      "name": "points belong to the intervals",
      "provenance": [],
      "authorship_tag": "ABX9TyNKq80BFtWCCOKQFGVP+Vi+",
      "include_colab_link": true
    },
    "kernelspec": {
      "name": "python3",
      "display_name": "Python 3"
    }
  },
  "cells": [
    {
      "cell_type": "markdown",
      "metadata": {
        "id": "view-in-github",
        "colab_type": "text"
      },
      "source": [
        "<a href=\"https://colab.research.google.com/github/Pipickin/Algorithms/blob/main/Tasks/points_belong_to_the_intervals.ipynb\" target=\"_parent\"><img src=\"https://colab.research.google.com/assets/colab-badge.svg\" alt=\"Open In Colab\"/></a>"
      ]
    },
    {
      "cell_type": "code",
      "metadata": {
        "id": "WbSYu0i6uNYB"
      },
      "source": [
        "import random\n",
        "\n",
        "\n",
        "def partition(array, left, right):\n",
        "  \n",
        "  random_index = random.randint(left, right - 1)\n",
        "  x = array[random_index]\n",
        "  array[random_index], array[left] = array[left], array[random_index]\n",
        "  j = left\n",
        "\n",
        "  for i in range(left + 1, right):\n",
        "    if array[i] <= x:\n",
        "      array[i], array[j + 1] = array[j + 1], array[i]\n",
        "      j += 1\n",
        "  \n",
        "  diff_index = left\n",
        "\n",
        "  for k in range(left, j + 1):\n",
        "    if array[k] < x:\n",
        "      array[k], array[diff_index + 1] = array[diff_index + 1], array[k]\n",
        "      diff_index += 1\n",
        "  \n",
        "  array[left], array[diff_index] = array[diff_index], array[left]\n",
        "\n",
        "  return diff_index  \n",
        "\n",
        "\n",
        "def quickSort3(array, left, right):\n",
        "\n",
        "  if left >= right:\n",
        "    return\n",
        "\n",
        "  j = partition(array, left, right)\n",
        "  quickSort3(array, left, j)\n",
        "  quickSort3(array, j + 1, right)"
      ],
      "execution_count": null,
      "outputs": []
    },
    {
      "cell_type": "code",
      "metadata": {
        "colab": {
          "base_uri": "https://localhost:8080/"
        },
        "id": "UQJatCk-uf8v",
        "outputId": "7793bcf0-2904-4671-a1a8-1e151664da17"
      },
      "source": [
        "import bisect \n",
        "\n",
        "\n",
        "def main():\n",
        "\n",
        "  n, m = map(int, input().split())\n",
        "  first_coord = []\n",
        "  second_coord = []\n",
        "\n",
        "  for _ in range(n):\n",
        "    first, second = map(int, input().split())\n",
        "    first_coord.append(first)\n",
        "    second_coord.append(second)\n",
        "\n",
        "  points = [*map(int, input().split())]\n",
        "\n",
        "  quickSort3(first_coord, 0, n)\n",
        "  quickSort3(second_coord, 0, n)\n",
        "\n",
        "  for point in points:\n",
        "    less_first = bisect.bisect(first_coord, point)\n",
        "    less_second = bisect.bisect_left(second_coord, point)\n",
        "    print(less_first - less_second, end=' ')\n",
        "\n",
        "\n",
        "if __name__ == '__main__':\n",
        "  main()"
      ],
      "execution_count": null,
      "outputs": [
        {
          "output_type": "stream",
          "text": [
            "10 5\n",
            "-2 3\n",
            "0 3\n",
            "-1 0\n",
            "-1 3\n",
            "0 1\n",
            "-2 -1\n",
            "1 3\n",
            "2 3\n",
            "1 2\n",
            "2 3\n",
            "-3 -1 0 2 03\n",
            "0 4 5 7 6 "
          ],
          "name": "stdout"
        }
      ]
    },
    {
      "cell_type": "code",
      "metadata": {
        "id": "9w0Wuh92B33U"
      },
      "source": [
        ""
      ],
      "execution_count": null,
      "outputs": []
    }
  ]
}