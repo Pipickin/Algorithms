{
  "nbformat": 4,
  "nbformat_minor": 0,
  "metadata": {
    "colab": {
      "name": "LIS",
      "provenance": [],
      "collapsed_sections": [],
      "authorship_tag": "ABX9TyMHWxF4ozAwOCYyXELoWdhm",
      "include_colab_link": true
    },
    "kernelspec": {
      "name": "python3",
      "display_name": "Python 3"
    }
  },
  "cells": [
    {
      "cell_type": "markdown",
      "metadata": {
        "id": "view-in-github",
        "colab_type": "text"
      },
      "source": [
        "<a href=\"https://colab.research.google.com/github/Pipickin/Algorithms/blob/main/Tasks/LIS.ipynb\" target=\"_parent\"><img src=\"https://colab.research.google.com/assets/colab-badge.svg\" alt=\"Open In Colab\"/></a>"
      ]
    },
    {
      "cell_type": "markdown",
      "metadata": {
        "id": "0cssPvJbi-cj"
      },
      "source": [
        "# LIS in time $n^2$"
      ]
    },
    {
      "cell_type": "code",
      "metadata": {
        "id": "-V8mwVoCX0cU"
      },
      "source": [
        "def lis(array):\n",
        "\n",
        "    counter = [1] * len(array)\n",
        "\n",
        "    for i in range(1, len(array)):\n",
        "        for j in range(i):\n",
        "            if array[j] < array[i] and counter[j] + 1 > counter[i]:\n",
        "                counter[i] += 1\n",
        "\n",
        "    max_count = max(counter)\n",
        "    max_index = counter.index(max_count)\n",
        "    indexes = [max_index]\n",
        "    print(max_count)\n",
        "\n",
        "    for i in range(max_index - 1, -1, -1):\n",
        "        if counter[i] == max_count - 1 and array[max_index] > array[i]:\n",
        "            indexes.append(i)\n",
        "            max_count -= 1\n",
        "            max_index = i\n",
        "\n",
        "    indexes.reverse()\n",
        "    for i in indexes:\n",
        "        print(array[i], end=' ')"
      ],
      "execution_count": 1,
      "outputs": []
    },
    {
      "cell_type": "code",
      "metadata": {
        "colab": {
          "base_uri": "https://localhost:8080/"
        },
        "id": "-ByCir1VWBMI",
        "outputId": "cdfd72ba-c059-4caf-8698-9edc44990f66"
      },
      "source": [
        "lis([5, 3, 4, 4, 2])"
      ],
      "execution_count": 2,
      "outputs": [
        {
          "output_type": "stream",
          "text": [
            "2\n",
            "3 4 "
          ],
          "name": "stdout"
        }
      ]
    },
    {
      "cell_type": "code",
      "metadata": {
        "colab": {
          "base_uri": "https://localhost:8080/"
        },
        "id": "MzFqzhkTbM95",
        "outputId": "faef8a28-ad4d-4859-8876-4cf501b3bd38"
      },
      "source": [
        "def main():\n",
        "\n",
        "    n = int(input())\n",
        "    array = [*map(int, input().split())]\n",
        "    lis(array)\n",
        "\n",
        "if __name__ == '__main__':\n",
        "    main()"
      ],
      "execution_count": 4,
      "outputs": [
        {
          "output_type": "stream",
          "text": [
            "5\n",
            "5 4 3 3 4\n",
            "2\n",
            "3 4 "
          ],
          "name": "stdout"
        }
      ]
    },
    {
      "cell_type": "markdown",
      "metadata": {
        "id": "dYTCuyp_eWGB"
      },
      "source": [
        "# LIS in time $nLog(n)$"
      ]
    },
    {
      "cell_type": "code",
      "metadata": {
        "id": "-ZSvHpdvfuny"
      },
      "source": [
        "from math import inf\n",
        "import bisect\n",
        "\n",
        "def lis(array):\n",
        "\n",
        "    len_array = len(array)\n",
        "    d = [inf] * (len_array + 1)\n",
        "    d[0] = -inf\n",
        "    pos = [-1] * (len_array + 1)\n",
        "    prev = [-1] * (len_array + 1)\n",
        "\n",
        "    for i in range(len_array):\n",
        "        j = bisect.bisect_left(d, array[i])\n",
        "        d[j] = array[i]\n",
        "        pos[j] = i\n",
        "        prev[j] = pos[j - 1]\n",
        "\n",
        "    for i in range(len(d)):\n",
        "        if d[i] == inf:\n",
        "          del d[i:], pos[i:], prev[i:]        \n",
        "          break\n",
        "    del d[0], pos[0], prev[0]\n",
        "    \n",
        "    print('max size = ', len(d))\n",
        "    \n",
        "    # i = len(d) - 1\n",
        "    # while prev[i] != -1:\n",
        "    #     print(array[pos[i]], end=' ')\n",
        "    #     i = prev[i]\n",
        "    print('indexes=', [i for i in range(len(array))])\n",
        "    print('array = ', array)\n",
        "    print('d = \\t', d)\n",
        "    print('pos = \\t', pos)\n",
        "    print('prev = \\t', prev)"
      ],
      "execution_count": 5,
      "outputs": []
    },
    {
      "cell_type": "code",
      "metadata": {
        "colab": {
          "base_uri": "https://localhost:8080/"
        },
        "id": "q2mChyoAF3Cy",
        "outputId": "2c37225d-0db2-4ea7-bc38-fea6aba65212"
      },
      "source": [
        "lis([1, 2, 8, 4, 5, 7, 3, 10])"
      ],
      "execution_count": 6,
      "outputs": [
        {
          "output_type": "stream",
          "text": [
            "max size =  6\n",
            "indexes= [0, 1, 2, 3, 4, 5, 6, 7]\n",
            "array =  [1, 2, 8, 4, 5, 7, 3, 10]\n",
            "d = \t [1, 2, 3, 5, 7, 10]\n",
            "pos = \t [0, 1, 6, 4, 5, 7]\n",
            "prev = \t [-1, 0, 1, 3, 4, 5]\n"
          ],
          "name": "stdout"
        }
      ]
    },
    {
      "cell_type": "code",
      "metadata": {
        "id": "nMIiEPIMz2lf",
        "colab": {
          "base_uri": "https://localhost:8080/"
        },
        "outputId": "d050a292-1cca-418d-e9c1-0c590015a26a"
      },
      "source": [
        "10, 7, 5, "
      ],
      "execution_count": 7,
      "outputs": [
        {
          "output_type": "execute_result",
          "data": {
            "text/plain": [
              "(10, 7, 5)"
            ]
          },
          "metadata": {
            "tags": []
          },
          "execution_count": 7
        }
      ]
    },
    {
      "cell_type": "code",
      "metadata": {
        "colab": {
          "base_uri": "https://localhost:8080/"
        },
        "id": "-MoJGMLXE_fj",
        "outputId": "770d4812-c1f1-445e-e06b-e44694a91633"
      },
      "source": [
        "lis([1,6, 7, 2,5,4,3,6])"
      ],
      "execution_count": 8,
      "outputs": [
        {
          "output_type": "stream",
          "text": [
            "max size =  4\n",
            "indexes= [0, 1, 2, 3, 4, 5, 6, 7]\n",
            "array =  [1, 6, 7, 2, 5, 4, 3, 6]\n",
            "d = \t [1, 2, 3, 6]\n",
            "pos = \t [0, 3, 6, 7]\n",
            "prev = \t [-1, 0, 3, 6]\n"
          ],
          "name": "stdout"
        }
      ]
    },
    {
      "cell_type": "code",
      "metadata": {
        "id": "Dah_lmX1FGfN",
        "colab": {
          "base_uri": "https://localhost:8080/"
        },
        "outputId": "7e5bfff4-bb2a-471a-b6fe-e036ee136249"
      },
      "source": [
        "print('left', bisect.bisect_left([1,2,2,2,3,4], 2))\n",
        "print('right', bisect.bisect_right([1,2,2,2,3,4], 2))\n",
        "print('bisect', bisect.bisect([1,2,2,2,3,4], 2))"
      ],
      "execution_count": null,
      "outputs": [
        {
          "output_type": "stream",
          "text": [
            "left 1\n",
            "right 4\n",
            "bisect 4\n"
          ],
          "name": "stdout"
        }
      ]
    },
    {
      "cell_type": "code",
      "metadata": {
        "id": "ycJPOUDUTu8E"
      },
      "source": [
        ""
      ],
      "execution_count": null,
      "outputs": []
    }
  ]
}