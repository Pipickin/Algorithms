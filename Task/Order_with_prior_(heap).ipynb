{
  "nbformat": 4,
  "nbformat_minor": 0,
  "metadata": {
    "colab": {
      "name": "Order with prior (heap)",
      "provenance": [],
      "collapsed_sections": [],
      "authorship_tag": "ABX9TyPZh9lqBXuAjodmD5KT0DFe",
      "include_colab_link": true
    },
    "kernelspec": {
      "name": "python3",
      "display_name": "Python 3"
    }
  },
  "cells": [
    {
      "cell_type": "markdown",
      "metadata": {
        "id": "view-in-github",
        "colab_type": "text"
      },
      "source": [
        "<a href=\"https://colab.research.google.com/github/Pipickin/Algorithms/blob/main/Task/Order_with_prior_(heap).ipynb\" target=\"_parent\"><img src=\"https://colab.research.google.com/assets/colab-badge.svg\" alt=\"Open In Colab\"/></a>"
      ]
    },
    {
      "cell_type": "markdown",
      "metadata": {
        "id": "kM5cYGF4rY8e"
      },
      "source": [
        "# Heap by array (order with prior)\n"
      ]
    },
    {
      "cell_type": "code",
      "metadata": {
        "id": "MKNnhkl22abp"
      },
      "source": [
        "def check_len():\n",
        "  \n",
        "  import sys\n",
        "\n",
        "  if len(heap) < 1:\n",
        "    print('heap is empty')\n",
        "    sys.exit(0)   \n",
        "\n",
        "\n",
        "def getMax():\n",
        "\n",
        "  check_len()\n",
        "  return heap[0]\n",
        "\n",
        "\n",
        "def swap(i, j):\n",
        "\n",
        "  heap[i], heap[j] = heap[j], heap[i]\n",
        "\n",
        "\n",
        "def pushUp(child):\n",
        "\n",
        "  parent = int((child - 1) / 2)\n",
        "  while heap[child] > heap[parent] and not child == 0:\n",
        "    swap(child, parent)\n",
        "    child, parent = parent, int((parent - 1)/ 2)\n",
        "\n",
        "\n",
        "def get_child(parent):\n",
        "\n",
        "  import math\n",
        "\n",
        "  child = - math.inf\n",
        "  n = len(heap)\n",
        "\n",
        "  for child_index in [2 * parent + 1, 2 * parent + 2]:\n",
        "    if child_index in range(n):\n",
        "      if heap[child_index] > child:\n",
        "        child = heap[child_index]\n",
        "        index = child_index \n",
        "\n",
        "  if child == - math.inf or n == 1:\n",
        "    return -1\n",
        "\n",
        "  return index\n",
        "\n",
        "\n",
        "def pushDown(parent):\n",
        "  \n",
        "  child = get_child(parent)\n",
        "\n",
        "  while not child == -1 and heap[child] > heap[parent]:\n",
        "    swap(child, parent)\n",
        "    parent, child = child, get_child(child)\n",
        "\n",
        "\n",
        "# We can define function pushDown without get_child \n",
        "\n",
        "# def pushDown(parent):\n",
        "  \n",
        "#     n = len(heap) - 1\n",
        "    \n",
        "#     while 2 * parent + 1 <= n:\n",
        "        \n",
        "#         i = parent\n",
        "        \n",
        "#         if heap[2 * parent + 1] > heap[i]:\n",
        "#             i = 2 * parent + 1\n",
        "            \n",
        "#         if 2 * parent + 2 <= n and heap[2 * parent + 2] > heap[i]:\n",
        "#             i =  2 * parent + 2\n",
        "        \n",
        "#         if i == parent:\n",
        "#             break    \n",
        "        \n",
        "#         swap(i, parent)\n",
        "#         parent = i\n",
        "\n",
        "\n",
        "def insert(prior):\n",
        "\n",
        "  heap.append(prior)\n",
        "  last_element = len(heap) - 1\n",
        "  pushUp(last_element)\n",
        "\n",
        "\n",
        "def extractMax():\n",
        "  \n",
        "  check_len()\n",
        "\n",
        "  max_prior = getMax()\n",
        "  swap(0, len(heap) - 1)\n",
        "  del heap[-1]\n",
        "\n",
        "  pushDown(0)\n",
        "\n",
        "  return max_prior\n",
        "\n"
      ],
      "execution_count": null,
      "outputs": []
    },
    {
      "cell_type": "code",
      "metadata": {
        "colab": {
          "base_uri": "https://localhost:8080/"
        },
        "id": "gi80LSNzdDiH",
        "outputId": "28663e4b-b237-46e8-f8a7-a8a7e40f39e4"
      },
      "source": [
        "def main():\n",
        "\n",
        "  n = int(input())\n",
        "  inputs = [input().split() for _ in range(n)]\n",
        "\n",
        "\n",
        "  for req in inputs:\n",
        "\n",
        "    if req[0].lower() == 'insert' :\n",
        "      insert(int(req[1]))\n",
        "    \n",
        "    elif req[0].lower() == 'extractmax' :\n",
        "      print(extractMax())\n",
        "      \n",
        "    else:\n",
        "      continue\n",
        "\n",
        "if __name__ == '__main__':\n",
        "  \n",
        "  import time\n",
        "\n",
        "  heap = []\n",
        "  main()"
      ],
      "execution_count": null,
      "outputs": [
        {
          "output_type": "stream",
          "text": [
            "1.2105209459987236\n"
          ],
          "name": "stdout"
        }
      ]
    },
    {
      "cell_type": "code",
      "metadata": {
        "id": "L38vF7V7GhJQ"
      },
      "source": [
        ""
      ],
      "execution_count": null,
      "outputs": []
    }
  ]
}